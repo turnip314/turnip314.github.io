{
 "cells": [
  {
   "attachments": {},
   "cell_type": "markdown",
   "id": "045bfa18-2b09-48e8-a86f-1a62b99573c4",
   "metadata": {
    "editable": true,
    "slideshow": {
     "slide_type": "slide"
    },
    "tags": []
   },
   "source": [
    "### Code Demo\n",
    "## \"A SageMath Package for Analytic Combinatorics in Several Variables: Beyond the Smooth Case\"\n",
    "### By: Benjamin Hackl, Andrew Luo, Stephen Melczer, Éric Schost\n",
    "\n",
    "<img src=\"https://acsvmath.github.io/sage_acsv/_static/acsv-logo.svg\" style=\"float: right\" alt=\"drawing\" width=\"250\"/>\n",
    "\n",
    "### FPSAC 2025, Hokkaido University\n",
    "#### Sapporo, Japan"
   ]
  },
  {
   "cell_type": "code",
   "execution_count": null,
   "id": "131b0cda-768b-43b6-9911-e2b49da5caf5",
   "metadata": {
    "editable": false,
    "slideshow": {
     "slide_type": "skip"
    },
    "tags": []
   },
   "outputs": [],
   "source": []
  },
  {
   "cell_type": "code",
   "execution_count": null,
   "id": "76f89881-513a-4d5c-9d47-952efb899e64",
   "metadata": {
    "editable": false,
    "slideshow": {
     "slide_type": "slide"
    },
    "tags": []
   },
   "outputs": [],
   "source": [
    "# !sage -pip install sage-acsv"
   ]
  },
  {
   "cell_type": "code",
   "execution_count": null,
   "id": "758ed891-d48b-4862-a092-a7c286ec3121",
   "metadata": {
    "editable": false,
    "slideshow": {
     "slide_type": ""
    },
    "tags": []
   },
   "outputs": [],
   "source": [
    "%display typeset"
   ]
  },
  {
   "cell_type": "code",
   "execution_count": null,
   "id": "b12b97c8-c905-4cc3-b330-81609ba6499a",
   "metadata": {
    "editable": false,
    "slideshow": {
     "slide_type": ""
    },
    "tags": []
   },
   "outputs": [],
   "source": [
    "from sage_acsv import (\n",
    "    diagonal_asymptotics_combinatorial as diagonal,\n",
    "    get_expansion_terms, \n",
    "    ACSVSettings\n",
    ")"
   ]
  },
  {
   "cell_type": "code",
   "execution_count": null,
   "id": "3dd7f8df-5916-49a6-b0ce-a8d1f5b209dd",
   "metadata": {
    "editable": false,
    "slideshow": {
     "slide_type": ""
    },
    "tags": []
   },
   "outputs": [],
   "source": [
    "var('w x y z')"
   ]
  },
  {
   "cell_type": "code",
   "execution_count": null,
   "id": "8ecb2cde-77c7-40eb-987e-045cc071efac",
   "metadata": {
    "editable": false,
    "raw_mimetype": "",
    "slideshow": {
     "slide_type": "skip"
    },
    "tags": []
   },
   "outputs": [],
   "source": []
  },
  {
   "cell_type": "markdown",
   "id": "a066660c-8d0d-46be-9d49-48231ad8ef3a",
   "metadata": {
    "editable": true,
    "slideshow": {
     "slide_type": "slide"
    },
    "tags": []
   },
   "source": [
    "### Example 1: Binomial Coefficients"
   ]
  },
  {
   "cell_type": "markdown",
   "id": "2e678183-1295-41d7-bb2b-f51f0fc01d57",
   "metadata": {
    "editable": true,
    "slideshow": {
     "slide_type": ""
    },
    "tags": []
   },
   "source": [
    "$$F(x,y) = \\frac{1}{1-x-y} = \\sum_{i,j \\ge 0 } {i+j \\choose j}x^iy^j$$"
   ]
  },
  {
   "cell_type": "code",
   "execution_count": null,
   "id": "18422262-c223-47be-8ced-efb0863d3cb1",
   "metadata": {
    "editable": false,
    "slideshow": {
     "slide_type": ""
    },
    "tags": []
   },
   "outputs": [],
   "source": [
    "diagonal(1/(1 - x - y))"
   ]
  },
  {
   "cell_type": "code",
   "execution_count": null,
   "id": "baf7554d-4c49-483e-a35d-f716d39d4f3a",
   "metadata": {
    "editable": false,
    "slideshow": {
     "slide_type": ""
    },
    "tags": []
   },
   "outputs": [],
   "source": [
    "diagonal(1/(1 - x - y), r=[2, 1])"
   ]
  },
  {
   "cell_type": "code",
   "execution_count": null,
   "id": "dd59e8c9-5c3f-4c6f-a965-f5e3e2a5f28f",
   "metadata": {
    "editable": false,
    "slideshow": {
     "slide_type": "skip"
    },
    "tags": []
   },
   "outputs": [],
   "source": []
  },
  {
   "cell_type": "code",
   "execution_count": null,
   "id": "fddea3d7-f857-4b94-bdb8-dcf91326de5b",
   "metadata": {
    "editable": false,
    "slideshow": {
     "slide_type": "subslide"
    },
    "tags": []
   },
   "outputs": [],
   "source": [
    "ex = diagonal(1/(1 - x - y), r=[2, 1], expansion_precision=2); ex"
   ]
  },
  {
   "cell_type": "code",
   "execution_count": null,
   "id": "16a7acbd-70ae-4fd9-a14b-66c87799d844",
   "metadata": {
    "editable": false,
    "slideshow": {
     "slide_type": ""
    },
    "tags": []
   },
   "outputs": [],
   "source": [
    "terms = get_expansion_terms(ex); terms"
   ]
  },
  {
   "cell_type": "code",
   "execution_count": null,
   "id": "95402426-ff92-4d5c-bb54-813ad5e1cf6c",
   "metadata": {
    "editable": false,
    "slideshow": {
     "slide_type": ""
    },
    "tags": []
   },
   "outputs": [],
   "source": [
    "terms[0].coefficient.minpoly()"
   ]
  },
  {
   "cell_type": "code",
   "execution_count": null,
   "id": "ec4956d3-e76b-4412-913b-d19b73a2fcc1",
   "metadata": {
    "editable": false,
    "slideshow": {
     "slide_type": ""
    },
    "tags": []
   },
   "outputs": [],
   "source": [
    "terms[0].coefficient.radical_expression()"
   ]
  },
  {
   "cell_type": "code",
   "execution_count": null,
   "id": "63e0ef21-abca-48b5-8537-4ea582e78bc9",
   "metadata": {
    "editable": false,
    "slideshow": {
     "slide_type": "skip"
    },
    "tags": []
   },
   "outputs": [],
   "source": []
  },
  {
   "cell_type": "markdown",
   "id": "df0e8e63-b029-4db6-aec6-303576725533",
   "metadata": {
    "editable": true,
    "slideshow": {
     "slide_type": "slide"
    },
    "tags": []
   },
   "source": [
    "### Example 2: Winning Choices in a Single Player Game"
   ]
  },
  {
   "cell_type": "markdown",
   "id": "fd7fb2b0-0954-441c-a7f9-38c6c332adb4",
   "metadata": {
    "editable": true,
    "slideshow": {
     "slide_type": ""
    },
    "tags": []
   },
   "source": [
    "$$F(x,y)=\\frac{1}{(1-x/3-2y/3)(1-2x/3-y/3)}$$"
   ]
  },
  {
   "cell_type": "code",
   "execution_count": null,
   "id": "89c339c8-2fb2-431c-83cd-c330eb1dd315",
   "metadata": {
    "editable": false,
    "slideshow": {
     "slide_type": ""
    },
    "tags": []
   },
   "outputs": [],
   "source": [
    "F = 1/(1 - x/3 - 2*y/3)/(1 -2*x/3 - y/3)"
   ]
  },
  {
   "cell_type": "code",
   "execution_count": null,
   "id": "13c2c767-2645-4f05-95b5-7a175d0390b0",
   "metadata": {
    "editable": false,
    "slideshow": {
     "slide_type": ""
    },
    "tags": []
   },
   "outputs": [],
   "source": [
    "diagonal(F, r=[1, 3])"
   ]
  },
  {
   "cell_type": "code",
   "execution_count": null,
   "id": "00a6a4a2-2f07-41fe-a3a2-e07912c7d7a4",
   "metadata": {
    "editable": false,
    "slideshow": {
     "slide_type": ""
    },
    "tags": []
   },
   "outputs": [],
   "source": [
    "diagonal(F, r=[4, 1])"
   ]
  },
  {
   "cell_type": "code",
   "execution_count": null,
   "id": "57599dd2-fe6a-40f7-8f39-042dd325c589",
   "metadata": {
    "editable": false,
    "slideshow": {
     "slide_type": ""
    },
    "tags": []
   },
   "outputs": [],
   "source": [
    "diagonal(F, r=[1, 1])"
   ]
  },
  {
   "cell_type": "code",
   "execution_count": null,
   "id": "d6b423fb-7c3c-4b24-bc2b-5da532a95693",
   "metadata": {
    "editable": false,
    "slideshow": {
     "slide_type": ""
    },
    "tags": []
   },
   "outputs": [],
   "source": []
  },
  {
   "cell_type": "code",
   "execution_count": null,
   "id": "a798201a-0eca-40a2-8afe-d16ef3435572",
   "metadata": {
    "editable": false,
    "slideshow": {
     "slide_type": "subslide"
    },
    "tags": []
   },
   "outputs": [],
   "source": [
    "try:\n",
    "    diagonal(F, r=[2, 1])\n",
    "except Exception as e:\n",
    "    print(e)"
   ]
  },
  {
   "cell_type": "code",
   "execution_count": null,
   "id": "30cd8727-d3d8-4ca4-9775-d34da38e1d54",
   "metadata": {
    "editable": false,
    "slideshow": {
     "slide_type": "skip"
    },
    "tags": []
   },
   "outputs": [],
   "source": []
  },
  {
   "cell_type": "markdown",
   "id": "3d682a0f-c702-4df5-9998-4f9d4396cf60",
   "metadata": {
    "editable": true,
    "slideshow": {
     "slide_type": "slide"
    },
    "tags": []
   },
   "source": [
    "### Example 3: Horizontally Convex Polyominoes"
   ]
  },
  {
   "cell_type": "markdown",
   "id": "49a90e07-f312-40d9-9e8f-1fde61a9e02a",
   "metadata": {
    "editable": true,
    "slideshow": {
     "slide_type": ""
    },
    "tags": []
   },
   "source": [
    "$$F(x,y)=\\frac{xy(1-x)^3}{(1-x)^4-xy(1-x-x^2+x^3+x^2y)}$$"
   ]
  },
  {
   "cell_type": "code",
   "execution_count": null,
   "id": "e3b7c826-3efa-43f4-adab-ae8f7712dc2a",
   "metadata": {
    "editable": false,
    "slideshow": {
     "slide_type": "subslide"
    },
    "tags": []
   },
   "outputs": [],
   "source": [
    "F = x*y*(1 - x)^3/((1 - x)^4 - x*y*(1 - x - x^2 + x^3 + x^2*y))"
   ]
  },
  {
   "cell_type": "code",
   "execution_count": null,
   "id": "f9340044-bd88-47a8-ab34-1614cdac4c2f",
   "metadata": {
    "editable": false,
    "slideshow": {
     "slide_type": ""
    },
    "tags": []
   },
   "outputs": [],
   "source": [
    "diagonal(F, r=[2,1])"
   ]
  },
  {
   "cell_type": "code",
   "execution_count": null,
   "id": "07180563-4212-41a8-b4b7-d7c4e14605de",
   "metadata": {
    "editable": true,
    "slideshow": {
     "slide_type": ""
    },
    "tags": []
   },
   "outputs": [],
   "source": [
    "try:\n",
    "    diagonal(F, r=[1,1])\n",
    "except Exception as e:\n",
    "    print(e)"
   ]
  },
  {
   "cell_type": "code",
   "execution_count": null,
   "id": "be5766a4-aeca-49f3-a21c-19f2cacec364",
   "metadata": {
    "editable": false,
    "slideshow": {
     "slide_type": "skip"
    },
    "tags": []
   },
   "outputs": [],
   "source": []
  },
  {
   "cell_type": "markdown",
   "id": "e72e1fbc-db41-4dbb-87e6-d9af6dd2266e",
   "metadata": {
    "editable": true,
    "slideshow": {
     "slide_type": "slide"
    },
    "tags": []
   },
   "source": [
    "### Example 4: Quarter Plane Lattice Walk with Steps (-1, -1), (1, -1), (0, 1)"
   ]
  },
  {
   "cell_type": "markdown",
   "id": "9c430035-ccf3-464c-bd44-630580e9a2c9",
   "metadata": {
    "editable": true,
    "slideshow": {
     "slide_type": ""
    },
    "tags": []
   },
   "source": [
    "$$F(x,y,z) = \\frac{(x+1)(2x^2y^2z+2y^2z-1)}{(y-1)(x^2y^2z+y^2z+xz-1)(x^2y^2z+y^2z-1)}$$"
   ]
  },
  {
   "cell_type": "code",
   "execution_count": null,
   "id": "87fedc3e-7201-4e5f-a84e-1a515b2f0eb8",
   "metadata": {
    "editable": true,
    "slideshow": {
     "slide_type": ""
    },
    "tags": []
   },
   "outputs": [],
   "source": []
  },
  {
   "cell_type": "code",
   "execution_count": null,
   "id": "d4ae36c8-ed90-4dba-85a0-f5d1e811b3be",
   "metadata": {
    "editable": false,
    "slideshow": {
     "slide_type": "subslide"
    },
    "tags": []
   },
   "outputs": [],
   "source": [
    "F = (1 + x)*(2*z*x^2*y^2 + 2*z*y^2 - 1)/((-1 + y)*(z*x^2*y^2 + z*y^2 + z*x - 1)*(z*x^2*y^2 + z*y^2 - 1))"
   ]
  },
  {
   "cell_type": "code",
   "execution_count": null,
   "id": "92d59a8b-1028-44d3-b505-020726ac0d94",
   "metadata": {
    "editable": false,
    "slideshow": {
     "slide_type": ""
    },
    "tags": []
   },
   "outputs": [],
   "source": [
    "diagonal(F)"
   ]
  },
  {
   "cell_type": "code",
   "execution_count": null,
   "id": "ccb0a58a-e62f-4811-b2b1-69adf1abdc04",
   "metadata": {
    "editable": false,
    "slideshow": {
     "slide_type": "skip"
    },
    "tags": []
   },
   "outputs": [],
   "source": []
  },
  {
   "cell_type": "code",
   "execution_count": null,
   "id": "e17ed0c1-507c-4ff2-88fc-08360566e394",
   "metadata": {
    "editable": false,
    "slideshow": {
     "slide_type": "subslide"
    },
    "tags": []
   },
   "outputs": [],
   "source": [
    "expansion = diagonal(F, expansion_precision=2)\n",
    "expansion"
   ]
  },
  {
   "cell_type": "code",
   "execution_count": null,
   "id": "40e5ac16-3d66-4f0a-80f5-db3170fd25c0",
   "metadata": {
    "editable": false,
    "slideshow": {
     "slide_type": ""
    },
    "tags": []
   },
   "outputs": [],
   "source": [
    "terms = get_expansion_terms(expansion)\n",
    "for term in terms:\n",
    "    print((term.coefficient.radical_expression(), term.base.radical_expression()))"
   ]
  },
  {
   "cell_type": "code",
   "execution_count": null,
   "id": "c0f32ff3-1c2b-4bed-8b2d-fc3cb77a8f04",
   "metadata": {
    "editable": false,
    "slideshow": {
     "slide_type": "skip"
    },
    "tags": []
   },
   "outputs": [],
   "source": []
  },
  {
   "cell_type": "markdown",
   "id": "f3cd6a94-54de-41c1-800e-54f3440cda97",
   "metadata": {
    "editable": true,
    "slideshow": {
     "slide_type": "slide"
    },
    "tags": []
   },
   "source": [
    "### Example 5: Whitney Stratification"
   ]
  },
  {
   "cell_type": "code",
   "execution_count": null,
   "id": "d8942cbd-229f-4bd1-a2fc-0cde1d27dbf9",
   "metadata": {
    "editable": false,
    "slideshow": {
     "slide_type": ""
    },
    "tags": []
   },
   "outputs": [],
   "source": [
    "from sage_acsv import whitney_stratification\n",
    "R.<x, y, z> = PolynomialRing(QQ, 3)\n",
    "IX = Ideal(y^2 + z^3 - x^2*z^2); IX"
   ]
  },
  {
   "cell_type": "code",
   "execution_count": null,
   "id": "23e6daae-88b6-4ad3-bc31-ce93dc7fc99e",
   "metadata": {
    "editable": false,
    "slideshow": {
     "slide_type": ""
    },
    "tags": []
   },
   "outputs": [],
   "source": [
    "whitney_stratification(IX, R)"
   ]
  },
  {
   "cell_type": "code",
   "execution_count": null,
   "id": "c4225358-edfb-4db3-b4ef-028ace8d1980",
   "metadata": {
    "editable": false,
    "slideshow": {
     "slide_type": "skip"
    },
    "tags": []
   },
   "outputs": [],
   "source": []
  },
  {
   "cell_type": "code",
   "execution_count": null,
   "id": "d260490f-9173-4dff-8cc7-3763c664cd1b",
   "metadata": {
    "editable": false,
    "slideshow": {
     "slide_type": "skip"
    },
    "tags": []
   },
   "outputs": [],
   "source": []
  },
  {
   "cell_type": "markdown",
   "id": "2a238ec4-4fe8-4959-af08-9ffe5135d056",
   "metadata": {
    "editable": true,
    "slideshow": {
     "slide_type": "slide"
    },
    "tags": []
   },
   "source": [
    "### Example 6: Finding Critical Points"
   ]
  },
  {
   "cell_type": "code",
   "execution_count": null,
   "id": "b3a7eb85-3c9d-457e-b5e8-1cd128d3be12",
   "metadata": {
    "editable": false,
    "slideshow": {
     "slide_type": ""
    },
    "tags": []
   },
   "outputs": [],
   "source": [
    "from sage_acsv import ACSVSettings as AS, critical_points\n",
    "var('w x y z')"
   ]
  },
  {
   "cell_type": "code",
   "execution_count": null,
   "id": "20911883-5d09-4bbc-bea2-c65c3b7c37e0",
   "metadata": {
    "editable": false,
    "slideshow": {
     "slide_type": ""
    },
    "tags": []
   },
   "outputs": [],
   "source": [
    "# this example takes very long without setting the gröbner basis backend to Macaulay2\n",
    "AS.set_default_groebner_backend(AS.Groebner.MACAULAY2)"
   ]
  },
  {
   "cell_type": "code",
   "execution_count": null,
   "id": "48271f67-4848-4ecb-8c92-a5cd97c43d37",
   "metadata": {
    "editable": false,
    "slideshow": {
     "slide_type": ""
    },
    "tags": []
   },
   "outputs": [],
   "source": [
    "critical_points(1/(1 - (w + x + y + z) + 27*w*x*y*z))"
   ]
  },
  {
   "cell_type": "code",
   "execution_count": null,
   "id": "34a839af-21b9-49f2-a983-3102ac6eb38b",
   "metadata": {
    "editable": false,
    "slideshow": {
     "slide_type": "skip"
    },
    "tags": []
   },
   "outputs": [],
   "source": []
  },
  {
   "cell_type": "markdown",
   "id": "07c603d3-aad4-4a79-8923-82049432ac47",
   "metadata": {
    "editable": true,
    "slideshow": {
     "slide_type": "slide"
    },
    "tags": []
   },
   "source": [
    "### Example 7: Finding Minimal Critical Points"
   ]
  },
  {
   "cell_type": "code",
   "execution_count": null,
   "id": "0f745f41-14a5-4e39-a896-9a1441b11b08",
   "metadata": {
    "editable": false,
    "slideshow": {
     "slide_type": ""
    },
    "tags": []
   },
   "outputs": [],
   "source": [
    "from sage_acsv import minimal_critical_points_combinatorial"
   ]
  },
  {
   "cell_type": "code",
   "execution_count": null,
   "id": "72113c1c-22eb-4d78-a334-8731644f1d05",
   "metadata": {
    "editable": false,
    "slideshow": {
     "slide_type": ""
    },
    "tags": []
   },
   "outputs": [],
   "source": [
    "F = 1/(1 - (w + x + y + z) + 24*w*x*y*z)\n",
    "critical_points(F)"
   ]
  },
  {
   "cell_type": "code",
   "execution_count": null,
   "id": "f5f0292d-5346-4a69-88ee-b032fdd3715d",
   "metadata": {
    "editable": false,
    "slideshow": {
     "slide_type": ""
    },
    "tags": []
   },
   "outputs": [],
   "source": [
    "minimal_critical_points_combinatorial(F)"
   ]
  },
  {
   "cell_type": "code",
   "execution_count": null,
   "id": "a6a73b56-0213-4267-9474-c29a5899785a",
   "metadata": {
    "editable": true,
    "slideshow": {
     "slide_type": ""
    },
    "tags": []
   },
   "outputs": [],
   "source": []
  },
  {
   "cell_type": "markdown",
   "id": "e77169bf-a3e4-4fbe-a147-277d35f4a16b",
   "metadata": {
    "editable": true,
    "slideshow": {
     "slide_type": "slide"
    },
    "tags": []
   },
   "source": [
    "# Thank you!"
   ]
  },
  {
   "cell_type": "code",
   "execution_count": null,
   "id": "a4612dc7-d20b-4583-a473-b0f97d5631fe",
   "metadata": {
    "editable": true,
    "slideshow": {
     "slide_type": ""
    },
    "tags": []
   },
   "outputs": [],
   "source": []
  }
 ],
 "metadata": {
  "kernelspec": {
   "display_name": "SageMath 10.5",
   "language": "sage",
   "name": "sagemath-10.5"
  },
  "language_info": {
   "codemirror_mode": {
    "name": "ipython",
    "version": 3
   },
   "file_extension": ".py",
   "mimetype": "text/x-python",
   "name": "python",
   "nbconvert_exporter": "python",
   "pygments_lexer": "ipython3",
   "version": "3.12.5"
  },
  "toc": {
   "base_numbering": 0
  }
 },
 "nbformat": 4,
 "nbformat_minor": 5
}
