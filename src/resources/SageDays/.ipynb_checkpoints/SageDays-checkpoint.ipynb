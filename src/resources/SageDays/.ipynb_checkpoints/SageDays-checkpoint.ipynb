{
 "cells": [
  {
   "attachments": {},
   "cell_type": "markdown",
   "id": "045bfa18-2b09-48e8-a86f-1a62b99573c4",
   "metadata": {
    "editable": true,
    "slideshow": {
     "slide_type": "slide"
    },
    "tags": []
   },
   "source": [
    "\n",
    "## A SageMath Package for Analytic Combinatorics in Several Variables\n",
    "### By: Andrew Luo\n",
    "### Joint work with Benjamin Hackl, Stephen Melczer, and Éric Schost\n",
    "\n",
    "<img src=\"https://acsvmath.github.io/sage_acsv/_static/acsv-logo.svg\" style=\"float: right\" alt=\"drawing\" width=\"250\"/>\n",
    "\n",
    "### SageDays, Hokkaido University\n",
    "#### Sapporo, Japan\n",
    "#"
   ]
  },
  {
   "cell_type": "code",
   "execution_count": null,
   "id": "1b8d26ac-b252-401f-99fe-3822ce7c5828",
   "metadata": {
    "editable": true,
    "slideshow": {
     "slide_type": "skip"
    },
    "tags": []
   },
   "outputs": [],
   "source": [
    "# new slide"
   ]
  },
  {
   "cell_type": "markdown",
   "id": "3419d032-15af-4094-a318-216cf4f83b1e",
   "metadata": {
    "editable": true,
    "slideshow": {
     "slide_type": "slide"
    },
    "tags": []
   },
   "source": [
    "## Generating Functions"
   ]
  },
  {
   "cell_type": "markdown",
   "id": "3ac7bcdd-ac06-445e-8768-03c946315e05",
   "metadata": {
    "editable": true,
    "slideshow": {
     "slide_type": ""
    },
    "tags": []
   },
   "source": [
    "\n",
    "The $\\textbf{generating function}$ for a sequence $(f_i)_{i\\ge0}$ is $$F(x) = f_0 + f_1x + f_2x^2 + \\cdots + f_kx^k + \\cdots$$\n",
    "$$ \\ $$\n"
   ]
  },
  {
   "cell_type": "markdown",
   "id": "68d471b4-bb55-4705-83fa-068ab7172a56",
   "metadata": {
    "editable": true,
    "slideshow": {
     "slide_type": ""
    },
    "tags": []
   },
   "source": [
    "$\\textbf{Example.}$\n",
    "The Fibonacci sequence $0, 1, 1, 2, \\dots$ has generating function $$F(x) = x + x^2 + 2x^3 + ... = \\frac{x}{1-x-x^2}.$$\n"
   ]
  },
  {
   "cell_type": "code",
   "execution_count": null,
   "id": "131b0cda-768b-43b6-9911-e2b49da5caf5",
   "metadata": {
    "editable": true,
    "slideshow": {
     "slide_type": "skip"
    },
    "tags": []
   },
   "outputs": [],
   "source": [
    "# new slide"
   ]
  },
  {
   "cell_type": "markdown",
   "id": "c434df9f-d8ba-44b5-842b-e1295e21e50b",
   "metadata": {
    "editable": true,
    "slideshow": {
     "slide_type": "slide"
    },
    "tags": []
   },
   "source": [
    "## Extraction of Coefficients"
   ]
  },
  {
   "cell_type": "markdown",
   "id": "5895d1e7-d989-4c24-914e-06661ffcaa92",
   "metadata": {
    "editable": true,
    "slideshow": {
     "slide_type": ""
    },
    "tags": []
   },
   "source": [
    "$\\textbf{The Cauchy Integral Formula for Coefficients}$\n",
    "\n",
    "Let $\\mathcal{C}$ be a suitable closed curve about the origin. Then $$f_n = [z^n]F(z)=\\frac{1}{2\\pi i}\\int_{\\mathcal{C}}F(z)\\frac{dz}{z^{n+1}}.$$"
   ]
  },
  {
   "cell_type": "markdown",
   "id": "2108c3c8-b194-4955-899c-11ac893bd34d",
   "metadata": {
    "editable": true,
    "slideshow": {
     "slide_type": ""
    },
    "tags": []
   },
   "source": [
    "$\\textbf{Example.}$ The Fibonacci generating function $F(x) = \\frac{x}{1-x-x^2}$ has poles at $\\phi^{-1}$ and $-\\phi$. We have $$f_n = \\frac{1}{2\\pi i}\\int_{|x|=\\epsilon} \\frac{F(x)}{x^{n+1}}dx$$ for $\\epsilon < \\phi^{-1}$."
   ]
  },
  {
   "cell_type": "code",
   "execution_count": null,
   "id": "241b669c-e2ec-43ec-a4ac-776e52d81df2",
   "metadata": {
    "editable": true,
    "slideshow": {
     "slide_type": "skip"
    },
    "tags": []
   },
   "outputs": [],
   "source": [
    "# new slide"
   ]
  },
  {
   "cell_type": "markdown",
   "id": "69a3c1ee-1720-46af-977d-dd9225785d88",
   "metadata": {
    "editable": true,
    "slideshow": {
     "slide_type": "slide"
    },
    "tags": []
   },
   "source": [
    "## Deforming Curves of Integration"
   ]
  },
  {
   "cell_type": "markdown",
   "id": "a125fd05-343b-4e51-9fde-a7f89a137023",
   "metadata": {
    "editable": true,
    "slideshow": {
     "slide_type": ""
    },
    "tags": []
   },
   "source": [
    "<img src=\"integration.jpeg\" style=\"display: block; margin-left: auto; margin-right: auto; width: 50%;\" alt=\"drawing\" width=\"250\"/>"
   ]
  },
  {
   "cell_type": "code",
   "execution_count": null,
   "id": "1a05c3b0-5070-4572-a226-c5ab9ecec542",
   "metadata": {
    "editable": true,
    "slideshow": {
     "slide_type": "skip"
    },
    "tags": []
   },
   "outputs": [],
   "source": [
    "# new slide"
   ]
  },
  {
   "cell_type": "markdown",
   "id": "adbce1a7-bfb4-4fc6-ac2b-ed0ac88dec75",
   "metadata": {
    "editable": true,
    "slideshow": {
     "slide_type": "slide"
    },
    "tags": []
   },
   "source": [
    "## Extraction of Coefficients"
   ]
  },
  {
   "cell_type": "markdown",
   "id": "40856f69-f7ce-4844-90c5-c0fd876cbe3c",
   "metadata": {
    "editable": true,
    "slideshow": {
     "slide_type": ""
    },
    "tags": []
   },
   "source": [
    "<img src=\"integration-partial.jpeg\" style=\"float: right\" alt=\"drawing\" width=\"250\"/>\n",
    "Taking ${\\color{violet} \\mathcal{C}_0}$  arbitarily far from the origin, $${\\color{violet} \\int_{\\mathcal{C}_0}\\frac{F(x)}{x^{n+1}}dx} \\to 0.$$\n",
    "\n",
    "Hence, $$f_n = -{\\color{OliveGreen} \\text{Res}_{z=-\\phi}\\frac{F(z)}{z^{n+1}}} - {\\color{Bittersweet}\\text{Res}_{z=\\phi^{-1}}\\frac{F(z)}{z^{n+1}}}=\\frac{1}{\\sqrt{5}}\\left(-\\phi^{-n}+\\phi^{n}\\right).$$"
   ]
  },
  {
   "cell_type": "code",
   "execution_count": null,
   "id": "fe038fc1-2fd8-4cd6-ba5d-96afc80dbf4b",
   "metadata": {
    "editable": true,
    "slideshow": {
     "slide_type": "skip"
    },
    "tags": []
   },
   "outputs": [],
   "source": [
    "# new slide"
   ]
  },
  {
   "cell_type": "markdown",
   "id": "c8f5f3ae-b310-4182-99fe-f696ee87f1a0",
   "metadata": {
    "editable": true,
    "slideshow": {
     "slide_type": "slide"
    },
    "tags": []
   },
   "source": [
    "## The Multivariate Case"
   ]
  },
  {
   "cell_type": "markdown",
   "id": "c45ae126-dc15-49a7-bc79-31088c42856d",
   "metadata": {
    "editable": true,
    "slideshow": {
     "slide_type": ""
    },
    "tags": []
   },
   "source": [
    "$\\newcommand{\\zz}{\\mathbf{z}}$\n",
    "$\\newcommand{\\bi}{\\mathbf{i}}$\n",
    "$\\newcommand{\\N}{\\mathbb{N}}$\n",
    "Assume $$F(\\zz) = \\frac{G(\\zz)}{H(\\zz)} = \\sum_{\\bi \\in \\N^d}f_\\bi \\zz^\\bi = \\sum_{i_1,\\dots,i_d\\ge0} f_{i_1,\\dots,i_d}z_1^{i_1}\\cdots z_d^{i_d}$$ is a rational function in $d$ variables."
   ]
  },
  {
   "cell_type": "markdown",
   "id": "7330a5af-4de9-4fcc-b12b-0171df1d0e12",
   "metadata": {
    "editable": true,
    "slideshow": {
     "slide_type": ""
    },
    "tags": []
   },
   "source": [
    "$\\newcommand{\\br}{\\mathbf{r}}$\n",
    "We consider the $\\br$-diagonal $$[\\zz^{n\\br}]F(\\zz) = f_{nr_1,\\dots,nr_d}.$$"
   ]
  },
  {
   "cell_type": "code",
   "execution_count": null,
   "id": "f6090acc-69d3-499b-abc2-8625ed64b20d",
   "metadata": {
    "editable": true,
    "slideshow": {
     "slide_type": "skip"
    },
    "tags": []
   },
   "outputs": [],
   "source": [
    "# sub slide"
   ]
  },
  {
   "cell_type": "markdown",
   "id": "71551b77-b90b-4041-ba48-5018a5f4fd87",
   "metadata": {
    "editable": true,
    "slideshow": {
     "slide_type": "subslide"
    },
    "tags": []
   },
   "source": [
    "$\\textbf{Example.}$ We can consider the $(1,1)$-diagonal of $$F(x,y) = {\\color{red} f_{0,0}} + f_{1,0}x + f_{0,1}y + {\\color{red} f_{1,1}}xy + \\cdots$$\n",
    "\n",
    "$$\\begin{equation*}\n",
    "    \\begin{matrix}\n",
    "        f_{0, 5} & f_{1, 5} & f_{2,5} & f_{3,5} & f_{4,5} & {\\color{red} f_{5,5}} \\\\\n",
    "        f_{0, 4} & f_{1, 4} & f_{2,4} & f_{3,4} & {\\color{red} f_{4,4}} & f_{5,4} \\\\\n",
    "        f_{0, 3} & f_{1, 3} & f_{2,3} & {\\color{red} f_{3,3}} & f_{4,3} & f_{5,3} \\\\\n",
    "        f_{0, 2} & f_{1, 2} & {\\color{red} f_{2,2}} & f_{3,2} & f_{4,2} & f_{5,2} \\\\\n",
    "        f_{0, 1} & {\\color{red} f_{1, 1}} & f_{2,1} & f_{3,1} & f_{4,1} & f_{5,1} \\\\\n",
    "        {\\color{red} f_{0, 0}} & f_{1, 0} & f_{2,0} & f_{3,0} & f_{4,0} & f_{5,0} \\\\\n",
    "    \\end{matrix}\n",
    "\\end{equation*}$$"
   ]
  },
  {
   "cell_type": "code",
   "execution_count": null,
   "id": "1d035adc-8cc9-4d41-a494-7da18ef8c085",
   "metadata": {
    "editable": true,
    "slideshow": {
     "slide_type": "skip"
    },
    "tags": []
   },
   "outputs": [],
   "source": [
    "# new slide"
   ]
  },
  {
   "cell_type": "markdown",
   "id": "fcb366d9-bed1-4af6-a7e8-57e08eeb0160",
   "metadata": {
    "editable": true,
    "slideshow": {
     "slide_type": "slide"
    },
    "tags": []
   },
   "source": [
    "## Why Multivariate Sequences?"
   ]
  },
  {
   "cell_type": "markdown",
   "id": "8012e37d-759d-4694-9fc8-5b5b3efa4799",
   "metadata": {
    "editable": true,
    "slideshow": {
     "slide_type": "fragment"
    },
    "tags": []
   },
   "source": [
    "1. **Tracking parameters.**\n",
    "   The number of _horizontally convex polyominoes_ with $n$ cells and $k$ rows is $[x^ny^k]F(x,y)$ where $$F(x,y)=\\frac{xy(1-x)^3}{(1-x)^4-xy(1-x-x^2+x^3+x^2y)}.$$\n"
   ]
  },
  {
   "cell_type": "markdown",
   "id": "faf17d99-64d0-424b-b99e-571ac3f24478",
   "metadata": {
    "editable": true,
    "slideshow": {
     "slide_type": "fragment"
    },
    "tags": []
   },
   "source": [
    "2. **Encoding more sequences.** The number of _lattice paths_ of length $n$ with directions $\\{N, SW, SE\\}$ that stay in the non-negative quadrant is $[x^ny^nz^n]F(x,y)$ where $$ F(x,y,z) = \\frac{(1 + x)(1-2zy^2(1+x^2))}{(1 - y)(1-z(x^2y^2 + y^2 + x))(1-zy^2(1+x^2))}. $$"
   ]
  },
  {
   "cell_type": "code",
   "execution_count": null,
   "id": "96f944e2-dd93-45c3-af86-3f26853447e6",
   "metadata": {
    "editable": true,
    "slideshow": {
     "slide_type": "skip"
    },
    "tags": []
   },
   "outputs": [],
   "source": [
    "# new slide"
   ]
  },
  {
   "cell_type": "markdown",
   "id": "3a7e3d89-c451-4976-9f14-3a5896cd2b8f",
   "metadata": {
    "editable": true,
    "slideshow": {
     "slide_type": "slide"
    },
    "tags": []
   },
   "source": [
    "### Example 1. A Lattice Walk"
   ]
  },
  {
   "cell_type": "markdown",
   "id": "76751d1c-af70-4269-b6ba-7cca20435e5d",
   "metadata": {
    "editable": true,
    "slideshow": {
     "slide_type": ""
    },
    "tags": []
   },
   "source": [
    "Let $s_n$ be the number of lattice paths starting from the origin and taking $n$ steps in $\\{(-1,-1), (1,-1), (0,1)\\}$ without ever leaving the non-negative quadrant. "
   ]
  },
  {
   "cell_type": "markdown",
   "id": "ea165a9b-3190-4e0d-ac2b-72f8070a4461",
   "metadata": {
    "editable": true,
    "slideshow": {
     "slide_type": ""
    },
    "tags": []
   },
   "source": [
    "<img src=\"assets/lattice_paths.gif\" style=\"display: block; margin-left: auto; margin-right: auto; width: 70%;\" alt=\"gif\" width=\"250\"/>"
   ]
  },
  {
   "cell_type": "markdown",
   "id": "ab2b4471-fa36-4b07-9ecf-9c2993383f84",
   "metadata": {
    "editable": true,
    "slideshow": {
     "slide_type": "subslide"
    },
    "tags": []
   },
   "source": [
    "In (Bostan and Kauers, 2009), it was conjectured (and later proved) that the generating function $$S(t) = \\sum_{n\\ge0}s_nt^n$$ satisfies a linear ODE of order 43. We can approximate that $$ s_n = {\\color{blue} C} \\cdot 3^n n^\\alpha \\log^\\beta(n) \\sum_{k \\geq 0} C_kn^{-k} + O((2\\sqrt{2})^n)$$\n",
    "    where $\\color{blue}C = 0.000\\dots$. Whether $\\color{blue}C = 0$ remained open for the next 7 years."
   ]
  },
  {
   "cell_type": "markdown",
   "id": "2143ca1b-72f3-4344-a009-da54fbc5d14c",
   "metadata": {
    "editable": true,
    "slideshow": {
     "slide_type": "fragment"
    },
    "tags": []
   },
   "source": [
    "Techniques from the _kernel method_ for lattice path enumeration implies $s_n$ is the $(1,1,1)$-diagonal of the coefficients of\n",
    "    \n",
    "$$ F(x,y,z) = \\frac{(1 + x)(1-2zy^2(1+x^2))}{(1 - y)(1-z(x^2y^2 + y^2 + x))(1-zy^2(1+x^2))}. $$"
   ]
  },
  {
   "cell_type": "markdown",
   "id": "cf002289-cb93-41ae-8d30-0e37f7b35e9a",
   "metadata": {
    "editable": true,
    "slideshow": {
     "slide_type": "subslide"
    },
    "tags": []
   },
   "source": [
    "$\\textbf{Q.}$ How do we compute asymptotics of the diagonal coefficients of a trivariate rational function?"
   ]
  },
  {
   "cell_type": "markdown",
   "id": "910c6220-b87a-4211-b6f4-564f4014be55",
   "metadata": {
    "editable": true,
    "slideshow": {
     "slide_type": "fragment"
    },
    "tags": []
   },
   "source": [
    "$\\textbf{A.}$ Using the sage_acsv package!"
   ]
  },
  {
   "cell_type": "code",
   "execution_count": null,
   "id": "74f7c7cd-f076-44bf-be24-4ac574fe11bb",
   "metadata": {
    "editable": true,
    "slideshow": {
     "slide_type": "fragment"
    },
    "tags": []
   },
   "outputs": [],
   "source": [
    "from sage_acsv import diagonal_asymptotics_combinatorial as diagonal\n",
    "var('x,y,z')\n",
    "F = (1 + x)*(2*z*x^2*y^2 + 2*z*y^2 - 1)/((-1 + y)*(z*x^2*y^2 + z*y^2 + z*x - 1)*(z*x^2*y^2 + z*y^2 - 1))\n",
    "show(diagonal(F))"
   ]
  },
  {
   "cell_type": "code",
   "execution_count": null,
   "id": "6860597f-c685-42c5-94f8-91a65da27578",
   "metadata": {
    "editable": true,
    "slideshow": {
     "slide_type": "skip"
    },
    "tags": []
   },
   "outputs": [],
   "source": [
    "# sub slide"
   ]
  },
  {
   "cell_type": "markdown",
   "id": "52b67dbc-7202-432b-bdcd-4ce8886c1b21",
   "metadata": {
    "editable": true,
    "slideshow": {
     "slide_type": "subslide"
    },
    "tags": []
   },
   "source": [
    "We can increase the precision..."
   ]
  },
  {
   "cell_type": "code",
   "execution_count": null,
   "id": "8bc26bd2-9403-442b-aa8f-5191c2e3e772",
   "metadata": {
    "editable": true,
    "slideshow": {
     "slide_type": ""
    },
    "tags": []
   },
   "outputs": [],
   "source": [
    "show(diagonal(F, expansion_precision=2))"
   ]
  },
  {
   "cell_type": "markdown",
   "id": "c55ef4c8-6329-49da-8f68-7ad378ef8c8d",
   "metadata": {
    "editable": true,
    "slideshow": {
     "slide_type": "fragment"
    },
    "tags": []
   },
   "source": [
    "The $0.9705627484771406?$ looks like a mess, but it's actually stored as an exact value using Sage's Algebraic Numbers class!"
   ]
  },
  {
   "cell_type": "code",
   "execution_count": null,
   "id": "53aaf635-6b06-47dc-baf0-fb2d662f2f9e",
   "metadata": {
    "editable": true,
    "slideshow": {
     "slide_type": ""
    },
    "tags": []
   },
   "outputs": [],
   "source": [
    "from sage_acsv import get_expansion_terms\n",
    "expansion = diagonal(F, expansion_precision=2)\n",
    "terms = get_expansion_terms(expansion)\n",
    "for term in terms:\n",
    "    print((term.coefficient.radical_expression(), term.base.radical_expression()))"
   ]
  },
  {
   "cell_type": "code",
   "execution_count": null,
   "id": "b28acb6a-ee08-47d7-b11a-3ff13aaa42cc",
   "metadata": {
    "editable": true,
    "slideshow": {
     "slide_type": "skip"
    },
    "tags": []
   },
   "outputs": [],
   "source": [
    "# new slide"
   ]
  },
  {
   "cell_type": "markdown",
   "id": "328e4835-8832-41d7-abfe-703220fec3aa",
   "metadata": {
    "editable": true,
    "slideshow": {
     "slide_type": "slide"
    },
    "tags": []
   },
   "source": [
    "## The Theory of ACSV"
   ]
  },
  {
   "cell_type": "markdown",
   "id": "e926b42c-f3d5-4af3-beed-20a2f2a3c383",
   "metadata": {
    "editable": true,
    "slideshow": {
     "slide_type": ""
    },
    "tags": []
   },
   "source": [
    "Now let's take a look at how our package works..."
   ]
  },
  {
   "cell_type": "markdown",
   "id": "e10df0e5-63e4-4439-8e38-e48f2cde9ebb",
   "metadata": {
    "editable": true,
    "slideshow": {
     "slide_type": ""
    },
    "tags": []
   },
   "source": [
    "$\\newcommand{\\C}{\\mathbb{C}}$\n",
    "$\\textbf{Multivariate Cauchy Integral Formula for Coefficients}$ \n",
    "\n",
    "Given a suitable product of circles $\\mathcal{C} \\subset \\C^d$ about the origin, $$f_\\bi=\\frac{1}{(2\\pi i)^d}\\int_{\\mathcal{C}}F(\\zz)\\frac{d\\zz}{\\zz^{\\bi+\\mathbf{1}}}.$$"
   ]
  },
  {
   "cell_type": "code",
   "execution_count": null,
   "id": "d75c383b-33b8-46d4-ab25-57f17c83f4b4",
   "metadata": {
    "editable": true,
    "slideshow": {
     "slide_type": "skip"
    },
    "tags": []
   },
   "outputs": [],
   "source": [
    "# sub slide"
   ]
  },
  {
   "cell_type": "markdown",
   "id": "1b6b2324-46c6-4ccb-90b0-3b01e1f858e4",
   "metadata": {
    "editable": true,
    "slideshow": {
     "slide_type": "subslide"
    },
    "tags": []
   },
   "source": [
    "The integrand of $$f_{n\\br}=\\frac{1}{(2\\pi i)^d}\\int_{\\mathcal{C}}F(\\zz)\\frac{d\\zz}{\\zz^{n\\br+\\mathbf{1}}}$$ has the maximum modulus when $|\\zz^{\\br}|$ is minimized."
   ]
  },
  {
   "cell_type": "markdown",
   "id": "d75aecba-cb91-4f98-b1fd-cf5a88782f74",
   "metadata": {
    "editable": true,
    "slideshow": {
     "slide_type": "fragment"
    },
    "tags": []
   },
   "source": [
    "$\\textbf{Definition.}$ The $\\textbf{height function}$ in the direction $\\br$ is $$h_\\br(\\zz)=-\\sum_{j=1}^dr_j\\log|z_j|.$$"
   ]
  },
  {
   "cell_type": "markdown",
   "id": "e0bb2c20-0658-477f-b78e-5d05272ade60",
   "metadata": {
    "editable": true,
    "slideshow": {
     "slide_type": "fragment"
    },
    "tags": []
   },
   "source": [
    "$\\textbf{Goal.}$ Maximize the height function"
   ]
  },
  {
   "cell_type": "code",
   "execution_count": null,
   "id": "bf0909dd-741b-4bf3-b01c-5c7d04d2ecc4",
   "metadata": {
    "editable": true,
    "slideshow": {
     "slide_type": "skip"
    },
    "tags": []
   },
   "outputs": [],
   "source": [
    "# sub slide"
   ]
  },
  {
   "cell_type": "markdown",
   "id": "c7bccd5b-8447-40e1-9d16-f581a7d70ac2",
   "metadata": {
    "editable": true,
    "slideshow": {
     "slide_type": "subslide"
    },
    "tags": []
   },
   "source": [
    "When $V(H)$ is _smooth_, the _critical points_ of $h$ can be obtained by solving\n",
    "$$\\begin{equation*}\n",
    "    \\begin{aligned}\n",
    "        z_iH_{z_i}(\\zz)r_d - \\lambda r_i =& 0 \\quad (1\\le i\\le d), \\\\ H(\\zz)=&0.\n",
    "    \\end{aligned}\n",
    "\\end{equation*}$$"
   ]
  },
  {
   "cell_type": "markdown",
   "id": "7aa07005-2a2a-4a5b-adec-34f3e9b9111c",
   "metadata": {
    "editable": true,
    "slideshow": {
     "slide_type": "fragment"
    },
    "tags": []
   },
   "source": [
    "We also want our points to be _minimal_; that is, no other point in $V(H)$ is closer to the origin in every coordinate."
   ]
  },
  {
   "cell_type": "markdown",
   "id": "a08aa0a9-6df0-4f14-8c44-59e1c5e64995",
   "metadata": {
    "editable": true,
    "slideshow": {
     "slide_type": "fragment"
    },
    "tags": []
   },
   "source": [
    "\n",
    "<span style=\"color:red\">Testing minimality is *hard*!</span>"
   ]
  },
  {
   "cell_type": "code",
   "execution_count": null,
   "id": "fd1e1952-5d63-45fb-9a74-3f9c26fc9849",
   "metadata": {
    "editable": true,
    "slideshow": {
     "slide_type": "skip"
    },
    "tags": []
   },
   "outputs": [],
   "source": [
    "# sub slide"
   ]
  },
  {
   "cell_type": "markdown",
   "id": "1e59c9fe-c46d-40fd-b9ed-eee973ea4a50",
   "metadata": {
    "editable": true,
    "slideshow": {
     "slide_type": "subslide"
    },
    "tags": []
   },
   "source": [
    "We make the assumption that our function $F(\\zz)$ is _combinatorial_; that is, at most finitely many terms are negative. These functions have an \"easy\" test for minimality."
   ]
  },
  {
   "cell_type": "markdown",
   "id": "607e1a15-fb0b-4556-b9b6-46a09ceab450",
   "metadata": {
    "editable": true,
    "slideshow": {
     "slide_type": ""
    },
    "tags": []
   },
   "source": [
    "<img src=\"minimality.jpeg\" style=\"display: block; margin-left: auto; margin-right: auto; width: 70%;\" alt=\"drawing\" width=\"250\"/>"
   ]
  },
  {
   "cell_type": "code",
   "execution_count": null,
   "id": "230db755-732c-44f4-901f-ad4c4b08c598",
   "metadata": {
    "editable": true,
    "slideshow": {
     "slide_type": "skip"
    },
    "tags": []
   },
   "outputs": [],
   "source": [
    "# sub slide"
   ]
  },
  {
   "cell_type": "markdown",
   "id": "d8d36c75-199f-4952-8974-af62159ca11b",
   "metadata": {
    "editable": true,
    "slideshow": {
     "slide_type": "subslide"
    },
    "tags": []
   },
   "source": [
    "Our final critical point system looks like the following:\n",
    "\n",
    "$$\\begin{equation*}\n",
    "    \\begin{aligned}\n",
    "        z_iH_{z_i}(\\zz)r_d - \\lambda r_i =& 0 \\quad (1\\le i\\le d), \\\\ H(\\zz)=&0, \\\\ H(t\\zz)=&0.\n",
    "    \\end{aligned}\n",
    "\\end{equation*}$$\n",
    "\n",
    "We wish to find solutions $(\\zz,t)$ such that $t=1$ and no other solution $(\\zz, t')$ exists with $t \\in (0,1)$."
   ]
  },
  {
   "cell_type": "code",
   "execution_count": null,
   "id": "905c4fa3-46cc-4613-b6e7-fdb04bed8abc",
   "metadata": {
    "editable": true,
    "slideshow": {
     "slide_type": ""
    },
    "tags": []
   },
   "outputs": [],
   "source": [
    "from sage_acsv import critical_points, minimal_critical_points_combinatorial\n",
    "var('x y')\n",
    "F = (x^2*y^2-x*y+1)/(1-(x+y+x*y-x*y^2-x^2*y+x^2*y^3+x^3*y^2))"
   ]
  },
  {
   "cell_type": "code",
   "execution_count": null,
   "id": "b661a4bf-c585-4cc8-be33-7ff0a07b9663",
   "metadata": {
    "editable": true,
    "slideshow": {
     "slide_type": ""
    },
    "tags": []
   },
   "outputs": [],
   "source": [
    "critical_points(F)"
   ]
  },
  {
   "cell_type": "code",
   "execution_count": null,
   "id": "d48913ef-6d89-45f4-8c5b-1bd699b5b791",
   "metadata": {
    "editable": true,
    "slideshow": {
     "slide_type": ""
    },
    "tags": []
   },
   "outputs": [],
   "source": [
    "minimal_critical_points_combinatorial(F)"
   ]
  },
  {
   "cell_type": "code",
   "execution_count": null,
   "id": "5d76db0c-b04f-40db-9018-8b294937adeb",
   "metadata": {
    "editable": true,
    "slideshow": {
     "slide_type": "skip"
    },
    "tags": []
   },
   "outputs": [],
   "source": [
    "# sub slide"
   ]
  },
  {
   "cell_type": "markdown",
   "id": "e6274bc7-e752-49ab-9189-128889b3f4ec",
   "metadata": {
    "editable": true,
    "slideshow": {
     "slide_type": "subslide"
    },
    "tags": []
   },
   "source": [
    "We solve the critical point system by computing a _univariate rational representation_."
   ]
  },
  {
   "cell_type": "code",
   "execution_count": null,
   "id": "dd6ffca9-3c11-4be5-a412-2386788cd19f",
   "metadata": {
    "editable": true,
    "slideshow": {
     "slide_type": ""
    },
    "tags": []
   },
   "outputs": [],
   "source": [
    "from sage_acsv import kronecker_representation\n",
    "var('lambda_ t')\n",
    "H = F.denominator()\n",
    "critical_point_system = [x*H.derivative(x) - lambda_, y*H.derivative(y) - lambda_, H, H.subs({x:x*t,y:y*t})]\n",
    "P, Qs = kronecker_representation(critical_point_system, [x,y,lambda_,t], x+t)\n",
    "show(P)\n",
    "show(Qs)"
   ]
  },
  {
   "cell_type": "code",
   "execution_count": null,
   "id": "bfa3f759-830f-43e8-bef5-bd1cc17e7aab",
   "metadata": {
    "editable": true,
    "slideshow": {
     "slide_type": "skip"
    },
    "tags": []
   },
   "outputs": [],
   "source": [
    "# new slide"
   ]
  },
  {
   "cell_type": "markdown",
   "id": "d38cf8a6-2eaf-41f2-aa4f-db42fa75d647",
   "metadata": {
    "editable": true,
    "slideshow": {
     "slide_type": "slide"
    },
    "tags": []
   },
   "source": [
    "## Non-Smooth ACSV"
   ]
  },
  {
   "cell_type": "markdown",
   "id": "3ebaa5f2-f4be-4d51-a613-22f5202620a2",
   "metadata": {
    "editable": true,
    "slideshow": {
     "slide_type": ""
    },
    "tags": []
   },
   "source": [
    "When $V(H)$ is non-smooth, the critical point system has trivial solutions."
   ]
  },
  {
   "cell_type": "markdown",
   "id": "4f42fb57-652c-48a1-861c-fa1901d72872",
   "metadata": {
    "editable": true,
    "slideshow": {
     "slide_type": ""
    },
    "tags": []
   },
   "source": [
    "We must break our variety down as a union of smooth _manifolds_."
   ]
  },
  {
   "cell_type": "markdown",
   "id": "57f08274-dcef-4600-b0d2-0ddc59bf54a1",
   "metadata": {
    "editable": true,
    "slideshow": {
     "slide_type": ""
    },
    "tags": []
   },
   "source": [
    "<img src=\"strat.jpeg\" style=\"display: block; margin-left: auto; margin-right: auto; width: 70%;\" alt=\"drawing\" width=\"250\"/>"
   ]
  },
  {
   "cell_type": "code",
   "execution_count": null,
   "id": "6badc5d5-b482-4514-b223-7bca456d2b6e",
   "metadata": {
    "editable": true,
    "slideshow": {
     "slide_type": "skip"
    },
    "tags": []
   },
   "outputs": [],
   "source": [
    "# sub slide"
   ]
  },
  {
   "cell_type": "markdown",
   "id": "329b9385-97ae-4edb-945d-df83dc5d08f4",
   "metadata": {
    "editable": true,
    "slideshow": {
     "slide_type": "subslide"
    },
    "tags": []
   },
   "source": [
    "A **Whitney Stratification** of the variety $X$ is a decomposition $$X = X_d \\supset X_{d-1} \\supset \\dots \\supset X_1 \\supset X_0$$ such that each $X_k \\setminus X_{k-1}$ is a manifold of dimension $k$ _preserving local geometric properties._"
   ]
  },
  {
   "cell_type": "markdown",
   "id": "8271958d-6890-4846-994a-e2b59ac9116a",
   "metadata": {
    "editable": true,
    "slideshow": {
     "slide_type": "fragment"
    },
    "tags": []
   },
   "source": [
    "<img src=\"strat-labelled.jpeg\" style=\"display: block; margin-left: auto; margin-right: auto; width: 70%;\" alt=\"drawing\" width=\"250\"/>"
   ]
  },
  {
   "cell_type": "code",
   "execution_count": null,
   "id": "52a786ef-ded3-41c5-9c58-b8ec87f1d172",
   "metadata": {
    "editable": true,
    "slideshow": {
     "slide_type": "skip"
    },
    "tags": []
   },
   "outputs": [],
   "source": [
    "# sub slide"
   ]
  },
  {
   "cell_type": "markdown",
   "id": "0995e7db-53b6-40e1-b23f-33b691a59ec0",
   "metadata": {
    "editable": true,
    "slideshow": {
     "slide_type": "subslide"
    },
    "tags": []
   },
   "source": [
    "### Example 2. Whitney Stratifications\n",
    "\n",
    "A famous example is the _Whitney cusp_ given by $y^2+z^3-x^2z^2=0$."
   ]
  },
  {
   "cell_type": "code",
   "execution_count": null,
   "id": "08bbefc9-1b61-4572-b567-20cad18394ae",
   "metadata": {
    "editable": true,
    "slideshow": {
     "slide_type": ""
    },
    "tags": []
   },
   "outputs": [],
   "source": [
    "from sage_acsv import whitney_stratification\n",
    "R.<x, y, z> = PolynomialRing(QQ, 3)\n",
    "IX = Ideal(y^2 + z^3 - x^2*z^2)\n",
    "whitney_stratification(IX, R)"
   ]
  },
  {
   "cell_type": "markdown",
   "id": "c17c2d28-19e4-4e9f-8760-7876162e9746",
   "metadata": {
    "editable": true,
    "slideshow": {
     "slide_type": ""
    },
    "tags": []
   },
   "source": [
    "<img src=\"cusp.jpeg\" style=\"display: block; margin-left: auto; margin-right: auto; width: 70%;\" alt=\"drawing\" width=\"250\"/>"
   ]
  },
  {
   "cell_type": "code",
   "execution_count": null,
   "id": "4e62e2b0-6620-4a93-9ece-732fad7c9940",
   "metadata": {
    "editable": true,
    "slideshow": {
     "slide_type": "skip"
    },
    "tags": []
   },
   "outputs": [],
   "source": [
    "# sub slide"
   ]
  },
  {
   "cell_type": "markdown",
   "id": "8e7fb96e-9c04-4f98-abc2-8478c03e667c",
   "metadata": {
    "editable": true,
    "slideshow": {
     "slide_type": "subslide"
    },
    "tags": []
   },
   "source": [
    "Critical points on $V(p_1,\\dots,p_s)$ come from the maximal minors of\n",
    "$\\newcommand{\\bw}{\\mathbf{w}}$\n",
    "$$\\begin{equation*}\n",
    "    N = N_{\\bw}(p_1,...,p_s) = \\begin{pmatrix}\n",
    "        \\nabla_{\\log} p_1(\\bw) \\\\\n",
    "        \\dots \\\\\n",
    "        \\nabla_{\\log} p_s(\\bw) \\\\\n",
    "        \\br\n",
    "    \\end{pmatrix},\n",
    "\\end{equation*}$$\n",
    "\n",
    "where $\\nabla_{\\log} f = (z_1f_{z_1},\\dots,z_df_{z_d})$."
   ]
  },
  {
   "cell_type": "markdown",
   "id": "842030d5-609a-4bb7-9f49-227fd9971986",
   "metadata": {
    "editable": true,
    "slideshow": {
     "slide_type": ""
    },
    "tags": []
   },
   "source": [
    "If $V(p_1,...,p_s)$ is non-smooth, additional algebraic techniques are used to clear extraneous solutions. One option is to <span style=\"color:red\">take an _ideal saturation_.</span> "
   ]
  },
  {
   "cell_type": "code",
   "execution_count": null,
   "id": "6b893d47-6079-4aab-b2b8-982c496a585e",
   "metadata": {
    "editable": true,
    "slideshow": {
     "slide_type": "skip"
    },
    "tags": []
   },
   "outputs": [],
   "source": [
    "# sub slide"
   ]
  },
  {
   "cell_type": "markdown",
   "id": "0b69ad91-d564-4e6a-a920-6974d5fb9f35",
   "metadata": {
    "editable": true,
    "slideshow": {
     "slide_type": "subslide"
    },
    "tags": []
   },
   "source": [
    "Given a contributing point $\\bw$, we want to\n",
    " - Deform our domain of integration and use residues to reduce our Cauchy integral to a local integral around $\\bw$.\n",
    " - Use an appropriate change of variables to reduce the local integral to that of a Fourier Laplace integral."
   ]
  },
  {
   "cell_type": "markdown",
   "id": "6aa89e6f-0b96-4154-b499-c848cca908af",
   "metadata": {
    "editable": true,
    "slideshow": {
     "slide_type": ""
    },
    "tags": []
   },
   "source": [
    "**Main Theorem of ACSV for Transverse Points**\n",
    "\n",
    "Let $F(\\zz)$ admit a square-free transverse factorization. Assume $\\bw$ is the unique contributing point of $F(\\zz)$ lying in a stratum of co-dimension $s$. Then, under verifiable assumptions, $$f_{n\\br} = \\bw^{-n\\br}(2\\pi n)^{(s-d)/2}\\sum_{k\\ge0}C_kn^k$$ for computable constants $C_k$."
   ]
  },
  {
   "cell_type": "code",
   "execution_count": null,
   "id": "7d9ae7c3-a1aa-40d3-9228-4a045c686ff5",
   "metadata": {
    "editable": true,
    "slideshow": {
     "slide_type": "skip"
    },
    "tags": []
   },
   "outputs": [],
   "source": [
    "# sub slide"
   ]
  },
  {
   "cell_type": "markdown",
   "id": "ca80f5b1-86fb-46b6-8d8e-760091a8903a",
   "metadata": {
    "editable": true,
    "slideshow": {
     "slide_type": "subslide"
    },
    "tags": []
   },
   "source": [
    "$C_0$ is explicitly computable.\n",
    "\n",
    "When $s < d$,\n",
    "$$C_0 = \\frac{G(\\bw)\\prod_{1\\le j \\le s}|\\bw_j|}{u(\\bw)\\sqrt{\\det(r_d\\mathcal{H})}|\\det \\Gamma_\\bw|}.$$ \n",
    "\n",
    "When $s = d$, $$C_0 = \\frac{(2\\pi)^{(s-d)/2}G(\\bw)}{u(\\bw)|\\det \\Gamma_\\bw|}.$$"
   ]
  },
  {
   "cell_type": "code",
   "execution_count": null,
   "id": "540ea398-1fd3-44bd-babd-a68b1bbb8108",
   "metadata": {
    "editable": true,
    "slideshow": {
     "slide_type": "skip"
    },
    "tags": []
   },
   "outputs": [],
   "source": [
    "# sub slide"
   ]
  },
  {
   "cell_type": "markdown",
   "id": "ef8aad54-9800-44af-8bbb-d682208afa61",
   "metadata": {
    "editable": true,
    "slideshow": {
     "slide_type": "subslide"
    },
    "tags": []
   },
   "source": [
    "For higher order terms, we must compute an implicitly defined function. This can be achieved via Newton Iteration.\n",
    "\n",
    "Consider the function $T(x)$ implicitly defined by $$xT^2-T+1 = 0$$ in a neighbourhood of the origin."
   ]
  },
  {
   "cell_type": "code",
   "execution_count": null,
   "id": "ec0a413d-738c-490a-af39-425840f9d89c",
   "metadata": {
    "editable": true,
    "slideshow": {
     "slide_type": ""
    },
    "tags": []
   },
   "outputs": [],
   "source": [
    "from sage_acsv.helpers import compute_newton_series\n",
    "R.<x, T> = PolynomialRing(QQ, 2)"
   ]
  },
  {
   "cell_type": "code",
   "execution_count": null,
   "id": "9ae5070a-8af1-4035-a3eb-5c0ed9884687",
   "metadata": {
    "editable": true,
    "slideshow": {
     "slide_type": ""
    },
    "tags": []
   },
   "outputs": [],
   "source": [
    "compute_newton_series(x*T^2 - T + 1, [x, T], 7)"
   ]
  },
  {
   "cell_type": "code",
   "execution_count": null,
   "id": "290bac80-cde3-46b5-9a33-d758f78b8221",
   "metadata": {
    "editable": true,
    "slideshow": {
     "slide_type": "skip"
    },
    "tags": []
   },
   "outputs": [],
   "source": [
    "# next slide"
   ]
  },
  {
   "cell_type": "markdown",
   "id": "3614e4d4-618b-4665-923c-9b8cc7462279",
   "metadata": {
    "editable": true,
    "slideshow": {
     "slide_type": "slide"
    },
    "tags": []
   },
   "source": [
    "## Some More Code Examples!"
   ]
  },
  {
   "cell_type": "code",
   "execution_count": null,
   "id": "76f89881-513a-4d5c-9d47-952efb899e64",
   "metadata": {
    "editable": false,
    "slideshow": {
     "slide_type": ""
    },
    "tags": []
   },
   "outputs": [],
   "source": [
    "# !sage -pip install sage-acsv"
   ]
  },
  {
   "cell_type": "code",
   "execution_count": null,
   "id": "758ed891-d48b-4862-a092-a7c286ec3121",
   "metadata": {
    "editable": false,
    "slideshow": {
     "slide_type": ""
    },
    "tags": []
   },
   "outputs": [],
   "source": [
    "%display typeset"
   ]
  },
  {
   "cell_type": "code",
   "execution_count": null,
   "id": "b12b97c8-c905-4cc3-b330-81609ba6499a",
   "metadata": {
    "editable": false,
    "slideshow": {
     "slide_type": ""
    },
    "tags": []
   },
   "outputs": [],
   "source": [
    "from sage_acsv import (\n",
    "    diagonal_asymptotics_combinatorial as diagonal,\n",
    "    get_expansion_terms, \n",
    "    ACSVSettings\n",
    ")"
   ]
  },
  {
   "cell_type": "code",
   "execution_count": null,
   "id": "3dd7f8df-5916-49a6-b0ce-a8d1f5b209dd",
   "metadata": {
    "editable": false,
    "slideshow": {
     "slide_type": ""
    },
    "tags": []
   },
   "outputs": [],
   "source": [
    "var('w x y z')"
   ]
  },
  {
   "cell_type": "code",
   "execution_count": null,
   "id": "8ecb2cde-77c7-40eb-987e-045cc071efac",
   "metadata": {
    "editable": false,
    "raw_mimetype": "",
    "slideshow": {
     "slide_type": "skip"
    },
    "tags": []
   },
   "outputs": [],
   "source": []
  },
  {
   "cell_type": "markdown",
   "id": "a066660c-8d0d-46be-9d49-48231ad8ef3a",
   "metadata": {
    "editable": true,
    "slideshow": {
     "slide_type": "subslide"
    },
    "tags": []
   },
   "source": [
    "### Example 3: Binomial Coefficients"
   ]
  },
  {
   "cell_type": "markdown",
   "id": "2e678183-1295-41d7-bb2b-f51f0fc01d57",
   "metadata": {
    "editable": true,
    "slideshow": {
     "slide_type": ""
    },
    "tags": []
   },
   "source": [
    "$$F(x,y) = \\frac{1}{1-x-y} = \\sum_{i,j \\ge 0 } {i+j \\choose j}x^iy^j$$"
   ]
  },
  {
   "cell_type": "code",
   "execution_count": null,
   "id": "18422262-c223-47be-8ced-efb0863d3cb1",
   "metadata": {
    "editable": false,
    "slideshow": {
     "slide_type": ""
    },
    "tags": []
   },
   "outputs": [],
   "source": [
    "diagonal(1/(1 - x - y))"
   ]
  },
  {
   "cell_type": "code",
   "execution_count": null,
   "id": "baf7554d-4c49-483e-a35d-f716d39d4f3a",
   "metadata": {
    "editable": false,
    "slideshow": {
     "slide_type": ""
    },
    "tags": []
   },
   "outputs": [],
   "source": [
    "diagonal(1/(1 - x - y), r=[2, 1])"
   ]
  },
  {
   "cell_type": "code",
   "execution_count": null,
   "id": "dd59e8c9-5c3f-4c6f-a965-f5e3e2a5f28f",
   "metadata": {
    "editable": false,
    "slideshow": {
     "slide_type": "skip"
    },
    "tags": []
   },
   "outputs": [],
   "source": []
  },
  {
   "cell_type": "code",
   "execution_count": null,
   "id": "fddea3d7-f857-4b94-bdb8-dcf91326de5b",
   "metadata": {
    "slideshow": {
     "slide_type": "subslide"
    },
    "tags": []
   },
   "outputs": [],
   "source": [
    "ex = diagonal(1/(1 - x - y), r=[2, 1], expansion_precision=2); ex"
   ]
  },
  {
   "cell_type": "code",
   "execution_count": null,
   "id": "16a7acbd-70ae-4fd9-a14b-66c87799d844",
   "metadata": {
    "editable": false,
    "slideshow": {
     "slide_type": ""
    },
    "tags": []
   },
   "outputs": [],
   "source": [
    "terms = get_expansion_terms(ex); terms"
   ]
  },
  {
   "cell_type": "code",
   "execution_count": null,
   "id": "95402426-ff92-4d5c-bb54-813ad5e1cf6c",
   "metadata": {
    "editable": false,
    "slideshow": {
     "slide_type": ""
    },
    "tags": []
   },
   "outputs": [],
   "source": [
    "terms[0].coefficient.minpoly()"
   ]
  },
  {
   "cell_type": "code",
   "execution_count": null,
   "id": "ec4956d3-e76b-4412-913b-d19b73a2fcc1",
   "metadata": {
    "editable": false,
    "slideshow": {
     "slide_type": ""
    },
    "tags": []
   },
   "outputs": [],
   "source": [
    "terms[0].coefficient.radical_expression()"
   ]
  },
  {
   "cell_type": "code",
   "execution_count": null,
   "id": "63e0ef21-abca-48b5-8537-4ea582e78bc9",
   "metadata": {
    "editable": true,
    "slideshow": {
     "slide_type": "skip"
    },
    "tags": []
   },
   "outputs": [],
   "source": [
    "# sub slide"
   ]
  },
  {
   "cell_type": "markdown",
   "id": "34be64d9-2a31-4f47-a249-3472e58dcce8",
   "metadata": {
    "editable": true,
    "slideshow": {
     "slide_type": "subslide"
    },
    "tags": []
   },
   "source": [
    "### Example 4: An Application in Number Theory - Apéry Numbers"
   ]
  },
  {
   "cell_type": "markdown",
   "id": "5e8fbc1f-3b48-42c8-a7c2-176c4472a73a",
   "metadata": {
    "editable": true,
    "slideshow": {
     "slide_type": ""
    },
    "tags": []
   },
   "source": [
    "The irrationality of $\\zeta(3)$ involved proving the convergence of a particular sequence involving the _Apéry Numbers_ given by the main diagonal of $$\\frac{1}{1 - w(1 + x)(1 + y)(1 + z)(xyz + yz + y + z + 1)}.$$ This can be done easily given its asymptotics."
   ]
  },
  {
   "cell_type": "code",
   "execution_count": null,
   "id": "c020f748-d186-4227-a39e-2db82bbd33b6",
   "metadata": {
    "editable": true,
    "slideshow": {
     "slide_type": ""
    },
    "tags": []
   },
   "outputs": [],
   "source": [
    "var('w x y z')\n",
    "F = 1/(1 - w*(1 + x)*(1 + y)*(1 + z)*(x*y*z + y*z + y + z + 1))\n",
    "diagonal(F)"
   ]
  },
  {
   "cell_type": "code",
   "execution_count": null,
   "id": "78049b18-1d40-4548-8cad-de50d33ee6c7",
   "metadata": {
    "editable": true,
    "slideshow": {
     "slide_type": "skip"
    },
    "tags": []
   },
   "outputs": [],
   "source": [
    "# sub slide"
   ]
  },
  {
   "cell_type": "markdown",
   "id": "df0e8e63-b029-4db6-aec6-303576725533",
   "metadata": {
    "editable": true,
    "slideshow": {
     "slide_type": "subslide"
    },
    "tags": []
   },
   "source": [
    "### Example 5: Winning Choices in a Single Player Game"
   ]
  },
  {
   "cell_type": "markdown",
   "id": "fd7fb2b0-0954-441c-a7f9-38c6c332adb4",
   "metadata": {
    "editable": true,
    "slideshow": {
     "slide_type": ""
    },
    "tags": []
   },
   "source": [
    "$$F(x,y)=\\frac{1}{(1-x/3-2y/3)(1-2x/3-y/3)}$$"
   ]
  },
  {
   "cell_type": "code",
   "execution_count": null,
   "id": "89c339c8-2fb2-431c-83cd-c330eb1dd315",
   "metadata": {
    "editable": false,
    "slideshow": {
     "slide_type": ""
    },
    "tags": []
   },
   "outputs": [],
   "source": [
    "F = 1/(1 - x/3 - 2*y/3)/(1 -2*x/3 - y/3)"
   ]
  },
  {
   "cell_type": "code",
   "execution_count": null,
   "id": "13c2c767-2645-4f05-95b5-7a175d0390b0",
   "metadata": {
    "editable": false,
    "slideshow": {
     "slide_type": ""
    },
    "tags": []
   },
   "outputs": [],
   "source": [
    "diagonal(F, r=[1, 3])"
   ]
  },
  {
   "cell_type": "code",
   "execution_count": null,
   "id": "00a6a4a2-2f07-41fe-a3a2-e07912c7d7a4",
   "metadata": {
    "editable": false,
    "slideshow": {
     "slide_type": ""
    },
    "tags": []
   },
   "outputs": [],
   "source": [
    "diagonal(F, r=[4, 1])"
   ]
  },
  {
   "cell_type": "code",
   "execution_count": null,
   "id": "57599dd2-fe6a-40f7-8f39-042dd325c589",
   "metadata": {
    "editable": false,
    "slideshow": {
     "slide_type": ""
    },
    "tags": []
   },
   "outputs": [],
   "source": [
    "diagonal(F, r=[1, 1])"
   ]
  },
  {
   "cell_type": "code",
   "execution_count": null,
   "id": "d6b423fb-7c3c-4b24-bc2b-5da532a95693",
   "metadata": {
    "editable": true,
    "slideshow": {
     "slide_type": "skip"
    },
    "tags": []
   },
   "outputs": [],
   "source": [
    "# sub slide"
   ]
  },
  {
   "cell_type": "code",
   "execution_count": null,
   "id": "a798201a-0eca-40a2-8afe-d16ef3435572",
   "metadata": {
    "editable": false,
    "slideshow": {
     "slide_type": "subslide"
    },
    "tags": []
   },
   "outputs": [],
   "source": [
    "try:\n",
    "    diagonal(F, r=[2, 1])\n",
    "except Exception as e:\n",
    "    print(e)"
   ]
  },
  {
   "cell_type": "code",
   "execution_count": null,
   "id": "30cd8727-d3d8-4ca4-9775-d34da38e1d54",
   "metadata": {
    "editable": true,
    "slideshow": {
     "slide_type": "skip"
    },
    "tags": []
   },
   "outputs": [],
   "source": [
    "# sub slide"
   ]
  },
  {
   "cell_type": "markdown",
   "id": "3d682a0f-c702-4df5-9998-4f9d4396cf60",
   "metadata": {
    "editable": true,
    "slideshow": {
     "slide_type": "subslide"
    },
    "tags": []
   },
   "source": [
    "### Example 6: Horizontally Convex Polyominoes"
   ]
  },
  {
   "cell_type": "markdown",
   "id": "49a90e07-f312-40d9-9e8f-1fde61a9e02a",
   "metadata": {
    "editable": true,
    "slideshow": {
     "slide_type": ""
    },
    "tags": []
   },
   "source": [
    "$$F(x,y)=\\frac{xy(1-x)^3}{(1-x)^4-xy(1-x-x^2+x^3+x^2y)}$$\n",
    "<img src=\"assets/boxes.gif\" style=\"display: block; margin-left: auto; margin-right: auto; width: 70%;\" alt=\"gif\" width=\"250\"/>"
   ]
  },
  {
   "cell_type": "code",
   "execution_count": null,
   "id": "093b7cd1-bbc1-4a0a-880a-e73148b93fd6",
   "metadata": {
    "editable": true,
    "slideshow": {
     "slide_type": "skip"
    },
    "tags": []
   },
   "outputs": [],
   "source": [
    "# sub slide"
   ]
  },
  {
   "cell_type": "code",
   "execution_count": null,
   "id": "e3b7c826-3efa-43f4-adab-ae8f7712dc2a",
   "metadata": {
    "editable": false,
    "slideshow": {
     "slide_type": "subslide"
    },
    "tags": []
   },
   "outputs": [],
   "source": [
    "F = x*y*(1 - x)^3/((1 - x)^4 - x*y*(1 - x - x^2 + x^3 + x^2*y))"
   ]
  },
  {
   "cell_type": "code",
   "execution_count": null,
   "id": "f9340044-bd88-47a8-ab34-1614cdac4c2f",
   "metadata": {
    "editable": false,
    "slideshow": {
     "slide_type": ""
    },
    "tags": []
   },
   "outputs": [],
   "source": [
    "diagonal(F, r=[2,1])"
   ]
  },
  {
   "cell_type": "code",
   "execution_count": null,
   "id": "07180563-4212-41a8-b4b7-d7c4e14605de",
   "metadata": {
    "editable": true,
    "slideshow": {
     "slide_type": ""
    },
    "tags": []
   },
   "outputs": [],
   "source": [
    "try:\n",
    "    diagonal(F, r=[1,1])\n",
    "except Exception as e:\n",
    "    print(e)"
   ]
  },
  {
   "cell_type": "code",
   "execution_count": null,
   "id": "be5766a4-aeca-49f3-a21c-19f2cacec364",
   "metadata": {
    "editable": true,
    "slideshow": {
     "slide_type": "skip"
    },
    "tags": []
   },
   "outputs": [],
   "source": [
    "# sub slide"
   ]
  },
  {
   "cell_type": "markdown",
   "id": "783f078f-827c-4fc3-aee9-67ea7dc3c8dd",
   "metadata": {
    "editable": true,
    "slideshow": {
     "slide_type": "slide"
    },
    "tags": []
   },
   "source": [
    "## Some Notes About Optimization"
   ]
  },
  {
   "cell_type": "markdown",
   "id": "598f925a-f55a-4295-a2c2-74f2894188d8",
   "metadata": {
    "editable": true,
    "slideshow": {
     "slide_type": ""
    },
    "tags": []
   },
   "source": [
    "- Many subroutines used in our algorithm require Gröbner basis computations\n",
    "  - These include Whitney Stratifications, Ideal Saturations, and Rational Univariate Representations\n",
    "- In Sage, this is done using LibSingular\n",
    "- More efficient implementations exist in Macaulay2 and Msolve\n",
    "- We have provided these options in our package"
   ]
  },
  {
   "cell_type": "code",
   "execution_count": null,
   "id": "558511e1-bc86-48a4-9d62-71a65bf9b40b",
   "metadata": {
    "editable": true,
    "slideshow": {
     "slide_type": "skip"
    },
    "tags": []
   },
   "outputs": [],
   "source": [
    "# sub slide"
   ]
  },
  {
   "cell_type": "markdown",
   "id": "2a238ec4-4fe8-4959-af08-9ffe5135d056",
   "metadata": {
    "editable": true,
    "slideshow": {
     "slide_type": "slide"
    },
    "tags": []
   },
   "source": [
    "### Example 7: An Expensive Computation"
   ]
  },
  {
   "cell_type": "code",
   "execution_count": null,
   "id": "b3a7eb85-3c9d-457e-b5e8-1cd128d3be12",
   "metadata": {
    "editable": false,
    "slideshow": {
     "slide_type": ""
    },
    "tags": []
   },
   "outputs": [],
   "source": [
    "from sage_acsv import ACSVSettings as AS, critical_points\n",
    "var('w x y z')"
   ]
  },
  {
   "cell_type": "code",
   "execution_count": null,
   "id": "20911883-5d09-4bbc-bea2-c65c3b7c37e0",
   "metadata": {
    "editable": false,
    "slideshow": {
     "slide_type": ""
    },
    "tags": []
   },
   "outputs": [],
   "source": [
    "# this example takes very long without setting the Gröbner basis backend to Macaulay2\n",
    "AS.set_default_groebner_backend(AS.Groebner.MACAULAY2)"
   ]
  },
  {
   "cell_type": "code",
   "execution_count": null,
   "id": "48271f67-4848-4ecb-8c92-a5cd97c43d37",
   "metadata": {
    "editable": false,
    "slideshow": {
     "slide_type": ""
    },
    "tags": []
   },
   "outputs": [],
   "source": [
    "critical_points(1/(1 - (w + x + y + z) + 27*w*x*y*z))"
   ]
  },
  {
   "cell_type": "code",
   "execution_count": null,
   "id": "a6a73b56-0213-4267-9474-c29a5899785a",
   "metadata": {
    "editable": true,
    "slideshow": {
     "slide_type": "skip"
    },
    "tags": []
   },
   "outputs": [],
   "source": [
    "# next slide"
   ]
  },
  {
   "cell_type": "markdown",
   "id": "487bb7f8-1850-4ec5-a55a-f61feb65786e",
   "metadata": {
    "editable": true,
    "slideshow": {
     "slide_type": "slide"
    },
    "tags": []
   },
   "source": [
    "# Further Work"
   ]
  },
  {
   "cell_type": "markdown",
   "id": "f655087c-0723-4513-ad27-e97194ff0483",
   "metadata": {
    "editable": true,
    "slideshow": {
     "slide_type": "slide"
    },
    "tags": []
   },
   "source": [
    "- Generating functions with complex factors can be broken down using a _Leĭnartas decomposition._\n",
    "- _Cohomological decompositions_ can let us work with higher order poles.\n",
    "- Some polynomials admit a transverse factorization over the ring of convergent power series.\n",
    "- Compute a general asymptotic formula over all directions."
   ]
  },
  {
   "cell_type": "code",
   "execution_count": null,
   "id": "296a6e5c-570b-45f9-b557-49d9722dd9d4",
   "metadata": {
    "editable": true,
    "slideshow": {
     "slide_type": "skip"
    },
    "tags": []
   },
   "outputs": [],
   "source": [
    "# sub slide"
   ]
  },
  {
   "cell_type": "markdown",
   "id": "e5f26c29-9d8f-40d6-a021-b651ec86c641",
   "metadata": {
    "editable": true,
    "slideshow": {
     "slide_type": "subslide"
    },
    "tags": []
   },
   "source": [
    "### Example 8. Decompositions\n",
    "This is currently a work in progress."
   ]
  },
  {
   "cell_type": "code",
   "execution_count": null,
   "id": "686db0cf-742b-402e-bed9-c879a959f33c",
   "metadata": {
    "editable": true,
    "slideshow": {
     "slide_type": ""
    },
    "tags": []
   },
   "outputs": [],
   "source": [
    "from sage_acsv.decomposition import (\n",
    "    compute_leinartas_decomposition,\n",
    "    compute_cohomology_decomposition\n",
    ")\n",
    "R.<x,y> = PolynomialRing(QQ, 2)\n",
    "G, H = 1, (x+y)*(x-y)*(x+2*y)"
   ]
  },
  {
   "cell_type": "code",
   "execution_count": null,
   "id": "aa53f7bd-f422-4b42-b1cc-a256cbae51de",
   "metadata": {
    "editable": true,
    "slideshow": {
     "slide_type": ""
    },
    "tags": []
   },
   "outputs": [],
   "source": [
    "compute_leinartas_decomposition(R, G, H)"
   ]
  },
  {
   "cell_type": "code",
   "execution_count": null,
   "id": "1eff3d47-20ab-4b11-8553-bcb497a8b851",
   "metadata": {
    "editable": true,
    "slideshow": {
     "slide_type": ""
    },
    "tags": []
   },
   "outputs": [],
   "source": [
    "_[0][1].factor()"
   ]
  },
  {
   "cell_type": "code",
   "execution_count": null,
   "id": "7b56bb4c-a897-4f6c-98dc-a9913b64de6c",
   "metadata": {
    "editable": true,
    "slideshow": {
     "slide_type": ""
    },
    "tags": []
   },
   "outputs": [],
   "source": [
    "G, H = 1, (x*y-1)*(x+y-1)^2"
   ]
  },
  {
   "cell_type": "code",
   "execution_count": null,
   "id": "777f999a-c8d6-453f-afc9-8388beb68793",
   "metadata": {
    "editable": true,
    "slideshow": {
     "slide_type": ""
    },
    "tags": []
   },
   "outputs": [],
   "source": [
    "compute_cohomology_decomposition(R, G, H)"
   ]
  },
  {
   "cell_type": "code",
   "execution_count": null,
   "id": "55f358be-29bb-4de7-8328-e68a500b7fcf",
   "metadata": {
    "editable": true,
    "slideshow": {
     "slide_type": "skip"
    },
    "tags": []
   },
   "outputs": [],
   "source": [
    "# next slide"
   ]
  },
  {
   "cell_type": "markdown",
   "id": "da8e8dc2-5302-4710-96b2-92c3abba6a48",
   "metadata": {
    "editable": true,
    "slideshow": {
     "slide_type": "slide"
    },
    "tags": []
   },
   "source": [
    "## Documentation Page"
   ]
  },
  {
   "cell_type": "markdown",
   "id": "c7384083-3170-4c2b-8338-8e40601b2489",
   "metadata": {
    "editable": true,
    "slideshow": {
     "slide_type": ""
    },
    "tags": []
   },
   "source": [
    "**Code Documentation.** We have extensive documentation thanks to Benjamin Hackl.\n",
    "\n",
    "[acsvmath.github.io/sage_acsv](https://acsvmath.github.io/sage_acsv)\n",
    "\n",
    "**More on ACSV.** There are many resources to learn the theory behind ACSV. Textbook, publications, and other software can be found on:\n",
    "\n",
    "[acsvproject.com](https://acsvproject.com/)"
   ]
  },
  {
   "cell_type": "code",
   "execution_count": null,
   "id": "8485b88b-04d3-41c8-b874-a939792e03f4",
   "metadata": {
    "editable": true,
    "slideshow": {
     "slide_type": "skip"
    },
    "tags": []
   },
   "outputs": [],
   "source": [
    "# next slide"
   ]
  },
  {
   "cell_type": "markdown",
   "id": "e77169bf-a3e4-4fbe-a147-277d35f4a16b",
   "metadata": {
    "editable": true,
    "slideshow": {
     "slide_type": "slide"
    },
    "tags": []
   },
   "source": [
    "# Thank you!"
   ]
  },
  {
   "cell_type": "code",
   "execution_count": null,
   "id": "a4612dc7-d20b-4583-a473-b0f97d5631fe",
   "metadata": {
    "editable": true,
    "slideshow": {
     "slide_type": "skip"
    },
    "tags": []
   },
   "outputs": [],
   "source": [
    "# end"
   ]
  }
 ],
 "metadata": {
  "kernelspec": {
   "display_name": "SageMath 10.5",
   "language": "sage",
   "name": "sagemath-10.5"
  },
  "language_info": {
   "codemirror_mode": {
    "name": "ipython",
    "version": 3
   },
   "file_extension": ".py",
   "mimetype": "text/x-python",
   "name": "python",
   "nbconvert_exporter": "python",
   "pygments_lexer": "ipython3",
   "version": "3.12.5"
  },
  "toc": {
   "base_numbering": 0
  }
 },
 "nbformat": 4,
 "nbformat_minor": 5
}
